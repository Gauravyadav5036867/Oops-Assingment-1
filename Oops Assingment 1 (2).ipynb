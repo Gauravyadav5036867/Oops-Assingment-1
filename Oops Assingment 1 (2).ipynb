{
 "cells": [
  {
   "cell_type": "code",
   "execution_count": 1,
   "id": "483b880f-b9c5-4e30-bd62-f7aaf1a237a5",
   "metadata": {},
   "outputs": [],
   "source": [
    "# question 1"
   ]
  },
  {
   "cell_type": "code",
   "execution_count": null,
   "id": "fb6c94b4-c5f1-483c-a3ec-8e5a7f8a348a",
   "metadata": {},
   "outputs": [],
   "source": [
    "Class:\n",
    "A class is a blueprint or template for creating objects. It defines a set of attributes (data members) and methods (functions) that objects of that class will have.\n",
    "It acts as a blueprint because it defines the structure and behavior of objects that belong to it."
   ]
  },
  {
   "cell_type": "code",
   "execution_count": null,
   "id": "a41cf418-f701-4df7-af31-705211877eac",
   "metadata": {},
   "outputs": [],
   "source": [
    "Object:\n",
    "An object is an instance of a class. It is a concrete realization of the class blueprint.\n",
    "Objects have their own unique data, but they share the same methods defined in the class.\n",
    "Objects are created based on the class definition and can represent specific instances or items from the real world"
   ]
  },
  {
   "cell_type": "code",
   "execution_count": 3,
   "id": "84899332-1194-451c-adc8-09ce71310508",
   "metadata": {},
   "outputs": [],
   "source": [
    "# question 2"
   ]
  },
  {
   "cell_type": "code",
   "execution_count": null,
   "id": "de2ca002-6119-433a-a83a-837212402343",
   "metadata": {},
   "outputs": [],
   "source": [
    "The four pillars of the oops are\n",
    "Abstraction.\n",
    "Encapsulation.\n",
    "Inheritance.\n",
    "Polymorphism."
   ]
  },
  {
   "cell_type": "code",
   "execution_count": 4,
   "id": "1883eadb-732f-4964-b5da-bcbd69b89cac",
   "metadata": {},
   "outputs": [],
   "source": [
    "# question 3"
   ]
  },
  {
   "cell_type": "code",
   "execution_count": null,
   "id": "4642d37f-8393-4a55-8dc7-3338cd351209",
   "metadata": {},
   "outputs": [],
   "source": [
    "The __init__ function is called every time an object is created from a class. The __init__ method lets the class initialize the object's attributes and serves no other purpose. It is only used within classes."
   ]
  },
  {
   "cell_type": "code",
   "execution_count": 5,
   "id": "d62ac40b-5d02-4115-924a-857b6d0b6a87",
   "metadata": {},
   "outputs": [
    {
     "name": "stdout",
     "output_type": "stream",
     "text": [
      "John\n",
      "36\n"
     ]
    }
   ],
   "source": [
    "class Person:\n",
    "  def __init__(self, name, age):\n",
    "    self.name = name\n",
    "    self.age = age\n",
    "\n",
    "p1 = Person(\"John\", 36)\n",
    "\n",
    "print(p1.name)\n",
    "print(p1.age)"
   ]
  },
  {
   "cell_type": "code",
   "execution_count": 6,
   "id": "26b9cce3-f0bd-40f1-ad86-ef9de08bcc77",
   "metadata": {},
   "outputs": [],
   "source": [
    "# question 4"
   ]
  },
  {
   "cell_type": "code",
   "execution_count": null,
   "id": "1effb2cb-e968-4a3c-b23e-40e51ec01948",
   "metadata": {},
   "outputs": [],
   "source": [
    "The self variable is used to represent the instance of the class which is often used in object-oriented programming. It works as a reference to the object. Python uses the self parameter to refer to instance attributes and methods of the class"
   ]
  },
  {
   "cell_type": "code",
   "execution_count": 7,
   "id": "69d7d18a-811e-4084-a615-64b262b09de1",
   "metadata": {},
   "outputs": [],
   "source": [
    "# question 5"
   ]
  },
  {
   "cell_type": "code",
   "execution_count": null,
   "id": "652336e6-b54c-4cad-826a-0ab525079e2b",
   "metadata": {},
   "outputs": [],
   "source": [
    "Inheritance is a mechanism in which one class acquires the property of another class."
   ]
  },
  {
   "cell_type": "code",
   "execution_count": null,
   "id": "4100f4c1-8ffd-4097-9d2e-aa57dd2f66e8",
   "metadata": {},
   "outputs": [],
   "source": []
  }
 ],
 "metadata": {
  "kernelspec": {
   "display_name": "Python 3 (ipykernel)",
   "language": "python",
   "name": "python3"
  },
  "language_info": {
   "codemirror_mode": {
    "name": "ipython",
    "version": 3
   },
   "file_extension": ".py",
   "mimetype": "text/x-python",
   "name": "python",
   "nbconvert_exporter": "python",
   "pygments_lexer": "ipython3",
   "version": "3.10.8"
  }
 },
 "nbformat": 4,
 "nbformat_minor": 5
}
